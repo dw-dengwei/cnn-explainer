{
 "cells": [
  {
   "cell_type": "code",
   "execution_count": 21,
   "metadata": {},
   "outputs": [],
   "source": [
    "import json\n",
    "import numpy as np"
   ]
  },
  {
   "cell_type": "code",
   "execution_count": 22,
   "metadata": {},
   "outputs": [],
   "source": [
    "def gen_tensor(shape):\n",
    "    return np.zeros(shape=shape).tolist()"
   ]
  },
  {
   "cell_type": "code",
   "execution_count": 23,
   "metadata": {},
   "outputs": [],
   "source": [
    "allOutputs = [\n",
    "    # (3, 112, 112),\n",
    "    (4, 4, 4),\n",
    "    (2, 2, 2),\n",
    "    (8,),\n",
    "    (10,)\n",
    "]\n",
    "\n",
    "inputImageArray = gen_tensor((3, 4, 4))\n",
    "allOutputs = [gen_tensor(shape) for shape in allOutputs]\n",
    "\n",
    "jsonAllOutputs = {'allOutputs': allOutputs}\n",
    "jsonInputImageArray = {'inputImageArray': inputImageArray}"
   ]
  },
  {
   "cell_type": "code",
   "execution_count": 24,
   "metadata": {},
   "outputs": [],
   "source": [
    "feature_map = 'allOutputs.json'\n",
    "input_image_array = 'inputImageArray.json'\n",
    "with open(feature_map, 'w') as f:\n",
    "    json.dump(jsonAllOutputs, f)\n",
    "\n",
    "with open(input_image_array, 'w') as f:\n",
    "    json.dump(jsonInputImageArray, f)"
   ]
  }
 ],
 "metadata": {
  "kernelspec": {
   "display_name": "Python 3",
   "language": "python",
   "name": "python3"
  },
  "language_info": {
   "codemirror_mode": {
    "name": "ipython",
    "version": 3
   },
   "file_extension": ".py",
   "mimetype": "text/x-python",
   "name": "python",
   "nbconvert_exporter": "python",
   "pygments_lexer": "ipython3",
   "version": "3.9.15"
  },
  "orig_nbformat": 4
 },
 "nbformat": 4,
 "nbformat_minor": 2
}
