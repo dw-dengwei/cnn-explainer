{
 "cells": [
  {
   "cell_type": "code",
   "execution_count": 2,
   "metadata": {},
   "outputs": [],
   "source": [
    "import json\n",
    "import numpy as np"
   ]
  },
  {
   "cell_type": "code",
   "execution_count": 3,
   "metadata": {},
   "outputs": [],
   "source": [
    "def gen_tensor(shape):\n",
    "    return np.random.rand(*shape).tolist()"
   ]
  },
  {
   "cell_type": "code",
   "execution_count": 4,
   "metadata": {},
   "outputs": [],
   "source": [
    "layers = [\n",
    "    {\n",
    "        'name': 'conv_1_1',\n",
    "        'kernel': gen_tensor((4, 3, 3, 3)),\n",
    "        'bias': gen_tensor((4,))\n",
    "    },\n",
    "    {\n",
    "        'name': 'pool_1_2',\n",
    "    },\n",
    "    {\n",
    "        'name': 'relu_1_3',\n",
    "    },\n",
    "\n",
    "    {\n",
    "        'name': 'conv_2_1',\n",
    "        'kernel': gen_tensor((8, 4, 3, 3)),\n",
    "        'bias': gen_tensor((8,))\n",
    "    },\n",
    "    {\n",
    "        'name': 'pool_2_2',\n",
    "    },\n",
    "    {\n",
    "        'name': 'relu_2_3',\n",
    "    },\n",
    "\n",
    "    {\n",
    "        'name': 'conv_3_1',\n",
    "        'kernel': gen_tensor((16, 8, 3, 3)),\n",
    "        'bias': gen_tensor((16,))\n",
    "    },\n",
    "    {\n",
    "        'name': 'pool_3_2',\n",
    "    },\n",
    "    {\n",
    "        'name': 'relu_3_3',\n",
    "    },\n",
    "\n",
    "    {\n",
    "        'name': 'conv_4_1',\n",
    "        'kernel': gen_tensor((32, 16, 3, 3)),\n",
    "        'bias': gen_tensor((32,))\n",
    "    },\n",
    "    {\n",
    "        'name': 'pool_4_2',\n",
    "    },\n",
    "    {\n",
    "        'name': 'relu_4_3',\n",
    "    },\n",
    "\n",
    "    {\n",
    "        'name': 'flatten_5_1',\n",
    "    },\n",
    "\n",
    "    {\n",
    "        'name': 'fc_6_1',\n",
    "        'kernel': gen_tensor((10, 6272)),\n",
    "        'bias': gen_tensor((10,))\n",
    "    },\n",
    "]"
   ]
  },
  {
   "cell_type": "code",
   "execution_count": 5,
   "metadata": {},
   "outputs": [],
   "source": [
    "jsonModel = {'model': layers}\n",
    "model = 'model.json'\n",
    "\n",
    "with open(model, 'w') as f:\n",
    "    json.dump(jsonModel, f)"
   ]
  }
 ],
 "metadata": {
  "kernelspec": {
   "display_name": "Python 3",
   "language": "python",
   "name": "python3"
  },
  "language_info": {
   "codemirror_mode": {
    "name": "ipython",
    "version": 3
   },
   "file_extension": ".py",
   "mimetype": "text/x-python",
   "name": "python",
   "nbconvert_exporter": "python",
   "pygments_lexer": "ipython3",
   "version": "3.9.15"
  },
  "orig_nbformat": 4
 },
 "nbformat": 4,
 "nbformat_minor": 2
}
