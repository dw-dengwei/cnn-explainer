{
 "cells": [
  {
   "cell_type": "code",
   "execution_count": 18,
   "metadata": {},
   "outputs": [],
   "source": [
    "import json\n",
    "import numpy as np"
   ]
  },
  {
   "cell_type": "code",
   "execution_count": 19,
   "metadata": {},
   "outputs": [],
   "source": [
    "def gen_tensor(shape):\n",
    "    return np.ones(shape=shape).tolist()"
   ]
  },
  {
   "cell_type": "code",
   "execution_count": 20,
   "metadata": {},
   "outputs": [],
   "source": [
    "layers = [\n",
    "    {\n",
    "        'name': 'conv_1_1',\n",
    "        'kernel': gen_tensor((10, 3, 3, 3)),\n",
    "        'bias': gen_tensor((10,))\n",
    "    },\n",
    "    {\n",
    "        'name': 'relu_1_2',\n",
    "    },\n",
    "\n",
    "    {\n",
    "        'name': 'conv_2_1',\n",
    "        'kernel': gen_tensor((10, 10, 3, 3)),\n",
    "        'bias': gen_tensor((10,))\n",
    "    },\n",
    "    {\n",
    "        'name': 'relu_2_2',\n",
    "    },\n",
    "    {\n",
    "        'name': 'pool_2_3',\n",
    "    },\n",
    "\n",
    "    {\n",
    "        'name': 'conv_3_1',\n",
    "        'kernel': gen_tensor((10, 3, 3, 3)),\n",
    "        'bias': gen_tensor((10,))\n",
    "    },\n",
    "    {\n",
    "        'name': 'relu_3_2',\n",
    "    },\n",
    "\n",
    "    {\n",
    "        'name': 'conv_4_1',\n",
    "        'kernel': gen_tensor((10, 10, 3, 3)),\n",
    "        'bias': gen_tensor((10,))\n",
    "    },\n",
    "    {\n",
    "        'name': 'relu_4_2',\n",
    "    },\n",
    "    {\n",
    "        'name': 'pool_4_3',\n",
    "    },\n",
    "\n",
    "    {\n",
    "        'name': 'flatten_5_1',\n",
    "    },\n",
    "\n",
    "    {\n",
    "        'name': 'fc_6_1',\n",
    "        'kernel': gen_tensor((10, 1690)),\n",
    "        'bias': gen_tensor((10,))\n",
    "    },\n",
    "]"
   ]
  },
  {
   "cell_type": "code",
   "execution_count": 21,
   "metadata": {},
   "outputs": [],
   "source": [
    "jsonModel = {'layers': layers}\n",
    "model = 'model.json'\n",
    "\n",
    "with open(model, 'w') as f:\n",
    "    json.dump(jsonModel, f)"
   ]
  }
 ],
 "metadata": {
  "kernelspec": {
   "display_name": "Python 3",
   "language": "python",
   "name": "python3"
  },
  "language_info": {
   "codemirror_mode": {
    "name": "ipython",
    "version": 3
   },
   "file_extension": ".py",
   "mimetype": "text/x-python",
   "name": "python",
   "nbconvert_exporter": "python",
   "pygments_lexer": "ipython3",
   "version": "3.9.15"
  },
  "orig_nbformat": 4
 },
 "nbformat": 4,
 "nbformat_minor": 2
}
