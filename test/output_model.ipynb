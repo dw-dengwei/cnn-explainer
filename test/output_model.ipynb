{
 "cells": [
  {
   "cell_type": "code",
   "execution_count": 10,
   "metadata": {},
   "outputs": [],
   "source": [
    "import json\n",
    "import numpy as np"
   ]
  },
  {
   "cell_type": "code",
   "execution_count": 11,
   "metadata": {},
   "outputs": [],
   "source": [
    "def gen_tensor(shape):\n",
    "    return np.ones(shape=shape).tolist()"
   ]
  },
  {
   "cell_type": "code",
   "execution_count": 12,
   "metadata": {},
   "outputs": [],
   "source": [
    "layers = [\n",
    "    {\n",
    "        'name': 'conv_1_1',\n",
    "        'kernel': gen_tensor((4, 3, 3, 3)),\n",
    "        'bias': gen_tensor((4,))\n",
    "    },\n",
    "\n",
    "    {\n",
    "        'name': 'conv_2_1',\n",
    "        'kernel': gen_tensor((2, 4, 3, 3)),\n",
    "        'bias': gen_tensor((2,))\n",
    "    },\n",
    "    {\n",
    "        'name': 'pool_2_2',\n",
    "    },\n",
    "    {\n",
    "        'name': 'relu_2_3',\n",
    "    },\n",
    "\n",
    "    {\n",
    "        'name': 'flatten_3_1',\n",
    "    },\n",
    "\n",
    "    {\n",
    "        'name': 'fc_3_1',\n",
    "        'kernel': gen_tensor((10, 8)),\n",
    "        'bias': gen_tensor((10,))\n",
    "    },\n",
    "]"
   ]
  },
  {
   "cell_type": "code",
   "execution_count": 13,
   "metadata": {},
   "outputs": [],
   "source": [
    "jsonModel = {'model': layers}\n",
    "model = 'model.json'\n",
    "\n",
    "with open(model, 'w') as f:\n",
    "    json.dump(jsonModel, f)"
   ]
  }
 ],
 "metadata": {
  "kernelspec": {
   "display_name": "Python 3",
   "language": "python",
   "name": "python3"
  },
  "language_info": {
   "codemirror_mode": {
    "name": "ipython",
    "version": 3
   },
   "file_extension": ".py",
   "mimetype": "text/x-python",
   "name": "python",
   "nbconvert_exporter": "python",
   "pygments_lexer": "ipython3",
   "version": "3.9.15"
  },
  "orig_nbformat": 4
 },
 "nbformat": 4,
 "nbformat_minor": 2
}
